{
 "cells": [
  {
   "cell_type": "code",
   "execution_count": null,
   "metadata": {},
   "outputs": [],
   "source": [
    "# Merge Outlet Orientation as \"Orientation\" to each csv file.\n",
    "\n",
    "import pandas as pd\n",
    "import glob\n",
    "\n",
    "# Read the single Excel sheet containing outlet and ideological leaning values\n",
    "excel_file = 'path/to/excel_sheet.xlsx'  # Update with the actual file path\n",
    "outlet_orientations = pd.read_excel(excel_file)\n",
    "\n",
    "# Create a dictionary to store outlet and ideological leaning mappings\n",
    "outlet_mapping = dict(zip(outlet_orientations['Outlet'], outlet_orientations['Ideological Leaning']))\n",
    "\n",
    "# Path to the directory containing the scored CSV files\n",
    "csv_directory = 'path/to/csv_files_directory'  # Update with the actual directory path\n",
    "csv_files = glob.glob(f'{csv_directory}/*.csv')  # Provides a list of file paths within scored CSVs\n",
    "\n",
    "# Iterate over each CSV file\n",
    "for csv_file in csv_files:\n",
    "    df_csv = pd.read_csv(csv_file)\n",
    "    \n",
    "    # Extract the outlet name from the first column of the CSV file\n",
    "    outlet_col = df_csv.iloc[:, 0].str.split('-', expand=True)[0]\n",
    "    \n",
    "    # Map the ideological leaning based on the outlet name\n",
    "    df_csv.insert(1, 'Orientation', outlet_col.map(outlet_mapping))\n",
    "    \n",
    "    # To convert the row values from strings into factors:\n",
    "    # df['Orientation'] = df['Orientation'].astype(CategoricalDtype(categories))\n",
    "\n",
    "    # Save the updated CSV file with the new \"Orientation\" column\n",
    "    df_csv.to_csv(csv_file, index=False)\n"
   ]
  }
 ],
 "metadata": {
  "kernelspec": {
   "display_name": "base",
   "language": "python",
   "name": "python3"
  },
  "language_info": {
   "codemirror_mode": {
    "name": "ipython",
    "version": 3
   },
   "file_extension": ".py",
   "mimetype": "text/x-python",
   "name": "python",
   "nbconvert_exporter": "python",
   "pygments_lexer": "ipython3",
   "version": "3.10.9"
  },
  "orig_nbformat": 4
 },
 "nbformat": 4,
 "nbformat_minor": 2
}
