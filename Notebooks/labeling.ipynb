{
 "cells": [
  {
   "cell_type": "code",
   "execution_count": null,
   "metadata": {},
   "outputs": [],
   "source": [
    "import pandas as pd\n",
    "import glob\n",
    "\n",
    "# Read the single Excel sheet containing outlet and ideological leaning values\n",
    "excel_file = 'path/to/excel_sheet.xlsx'  # Update with the actual file path\n",
    "outlet_orientations = pd.read_excel(excel_file)\n",
    "\n",
    "# Create a dictionary to store outlet and ideological leaning mappings\n",
    "outlet_mapping = dict(zip(outlet_orientations['Outlet'], outlet_orientations['Ideological Leaning']))\n",
    "\n",
    "# Path to the directory containing the scored CSV files\n",
    "csv_directory = 'path/to/csv_files_directory'  # Update with the actual directory path\n",
    "csv_files = glob.glob(f'{csv_directory}/*.csv')\n",
    "\n",
    "# Iterate over each CSV file\n",
    "for csv_file in csv_files:\n",
    "    df_csv = pd.read_csv(csv_file)\n",
    "    \n",
    "    # Extract the outlet name from the first column of the CSV file\n",
    "    df_csv['Outlet'] = df_csv.iloc[:, 0].str.split('-', expand=True)[0]\n",
    "    \n",
    "    # Map the ideological leaning based on the outlet name\n",
    "    df_csv['Orientation'] = df_csv['Outlet'].map(outlet_mapping)\n",
    "    \n",
    "    # Save the updated CSV file with the new \"Orientation\" column\n",
    "    df_csv.to_csv(csv_file, index=False)\n"
   ]
  }
 ],
 "metadata": {
  "language_info": {
   "name": "python"
  },
  "orig_nbformat": 4
 },
 "nbformat": 4,
 "nbformat_minor": 2
}
