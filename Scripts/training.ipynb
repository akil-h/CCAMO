{
 "cells": [
  {
   "cell_type": "code",
   "execution_count": 1,
   "metadata": {},
   "outputs": [],
   "source": [
    "import preprocessing # custom functions\n",
    "import os\n",
    "import h5py\n",
    "import numpy as np\n",
    "import pandas as pd\n",
    "import zipfile\n",
    "import matplotlib.pyplot as plt\n",
    "import seaborn as sns"
   ]
  },
  {
   "cell_type": "code",
   "execution_count": 2,
   "metadata": {},
   "outputs": [
    {
     "name": "stdout",
     "output_type": "stream",
     "text": [
      "Error processing file RT--2017-09-15--St Louis braces for violence after ex-cop is acquitted of murdering black man.txt: 'Political orientation label not found for org: rt'\n",
      "Error processing file RT--2017-09-12--Stay inside lock doors Active shooter search closes schools in Kentucky.txt: 'Political orientation label not found for org: rt'\n",
      "Error processing file RT--2017-10-08--Intentional HIV infection no longer a felony in California.txt: 'Political orientation label not found for org: rt'\n",
      "Error processing file RT--2017-10-13--Et tu Pikachu CNN claim Russia used Pokemon Go to meddle in US elections mocked online.txt: 'Political orientation label not found for org: rt'\n",
      "Error processing file RT--2017-10-20--State Department admits Al-Nusra affiliate using chemical weapons in Syria.txt: 'Political orientation label not found for org: rt'\n",
      "Error processing file RT--2017-08-31--FDA approves 1st living drug to treat cancer in the US.txt: 'Political orientation label not found for org: rt'\n",
      "Error processing file RT--2017-09-07--Are you working for RT State Depts Nauert to reporters asking about diplomatic row with Russia.txt: 'Political orientation label not found for org: rt'\n",
      "Error processing file RT--2017-09-07--Florida shutting down its 2 nuclear plants ahead of Hurricane Irma.txt: 'Political orientation label not found for org: rt'\n",
      "Error processing file RT--2017-10-09--Washington wants answers before giving Turks visas again US ambassador.txt: 'Political orientation label not found for org: rt'\n",
      "Error processing file Washington Examiner--2017-07-18--Fox News Shepard Smith fires back at Sean Hannity Sometimes facts are displeasing.txt: 'Political orientation label not found for org: washingtonexaminer'\n",
      "Error processing file Washington Examiner--2017-07-09--Ted Cruzs healthcare proposal faces cost concerns.txt: 'Political orientation label not found for org: washingtonexaminer'\n",
      "Error processing file Washington Examiner--2017-07-19--Science panels communications director leaves Capitol Hill to join Chevron.txt: 'Political orientation label not found for org: washingtonexaminer'\n",
      "Error processing file Washington Examiner--2017-08-14--Richmond capital of Confederacy braces for battle over Robert E Lee monument.txt: 'Political orientation label not found for org: washingtonexaminer'\n",
      "Error processing file Washington Examiner--2017-07-10--How the Energy and Policy Institute dupes the media into covering its work.txt: 'Political orientation label not found for org: washingtonexaminer'\n",
      "Error processing file Washington Examiner--2017-08-18--State Department Even the white guys support diversity program.txt: 'Political orientation label not found for org: washingtonexaminer'\n",
      "Error processing file Washington Examiner--2017-08-30--Defund terrorism Pass the Taylor Force Act.txt: 'Political orientation label not found for org: washingtonexaminer'\n",
      "Error processing file Washington Examiner--2017-08-30--Largest refinery in North America owned by Saudi Arabia goes dark in Harveys wake.txt: 'Political orientation label not found for org: washingtonexaminer'\n",
      "Error processing file Washington Examiner--2017-05-13--Trump MMs debut started by Reagan.txt: 'Political orientation label not found for org: washingtonexaminer'\n",
      "Error processing file Washington Examiner--2017-06-20--Pelosi writes letter to FCC Chairman Ajit Pai about net neutrality I oppose your efforts.txt: 'Political orientation label not found for org: washingtonexaminer'\n",
      "Error processing file Washington Examiner--2017-06-27--Perry Trump doesnt need Paris to advance clean energy.txt: 'Political orientation label not found for org: washingtonexaminer'\n",
      "Error processing file Washington Examiner--2017-05-05--White House says Trump has signed omnibus spending bill.txt: 'Political orientation label not found for org: washingtonexaminer'\n",
      "Error processing file Washington Examiner--2017-06-26--CBO Senate healthcare bill would result in 22 million uninsured 321 billion in savings.txt: 'Political orientation label not found for org: washingtonexaminer'\n",
      "Error processing file Washington Examiner--2017-05-15--Vice chairman Kris Kobach Voter fraud commission not out to prove Trumps illegal vote claims.txt: 'Political orientation label not found for org: washingtonexaminer'\n",
      "Error processing file Washington Examiner--2017-05-03--Ryan super PAC throws 500000 more at Montana House race.txt: 'Political orientation label not found for org: washingtonexaminer'\n",
      "Error processing file Washington Examiner--2017-06-21--Republicans still have their work cut out for them.txt: 'Political orientation label not found for org: washingtonexaminer'\n",
      "Error processing file Washington Examiner--2017-09-09--Federal health agencies prep for Hurricane Irma.txt: 'Political orientation label not found for org: washingtonexaminer'\n",
      "Error processing file Washington Examiner--2017-10-07--Florida nursing home where 12 died after Hurricane Irma is closing.txt: 'Political orientation label not found for org: washingtonexaminer'\n",
      "Error processing file Washington Examiner--2017-10-29--Emma Thompson regrets not having dinner with Trump I told him to fmdashk off.txt: 'Political orientation label not found for org: washingtonexaminer'\n",
      "Error processing file Washington Examiner--2017-10-11--House speeds toward vote on new 365 billion disaster aid package.txt: 'Political orientation label not found for org: washingtonexaminer'\n",
      "Error processing file Washington Examiner--2017-09-16--Trump tries to dismiss lawsuit alleging he violated Emoluments Clause.txt: 'Political orientation label not found for org: washingtonexaminer'\n",
      "Error processing file Washington Examiner--2017-09-12--Ted Cruzs staff reports porn video on his profile to Twitter.txt: 'Political orientation label not found for org: washingtonexaminer'\n",
      "Error processing file Washington Examiner--2017-09-30--Trumps Puerto Rico visit an opportunity to reassure critics of hurricane response.txt: 'Political orientation label not found for org: washingtonexaminer'\n",
      "Error processing file Washington Examiner--2017-10-04--Byron York In Trump media coverage audiences left and right get what they want.txt: 'Political orientation label not found for org: washingtonexaminer'\n",
      "Error processing file Washington Examiner--2017-04-26--Trump moves Obamacare repeal and replace to September.txt: 'Political orientation label not found for org: washingtonexaminer'\n",
      "Error processing file Washington Examiner--2017-04-23--Marine Le Pen and Emmanuel Macron head to runoff in French election What happened why it happened.txt: 'Political orientation label not found for org: washingtonexaminer'\n",
      "Error processing file Washington Examiner--2017-04-13--Warrens upcoming book discusses why she didnt run for president in 2016.txt: 'Political orientation label not found for org: washingtonexaminer'\n",
      "Error processing file Washington Examiner--2017-04-27--Poll Ryan Freedom Caucus Democrats blamed for Trump failures.txt: 'Political orientation label not found for org: washingtonexaminer'\n",
      "Error processing file RT--2017-07-01--Starship troopers US to create space corps in radical Air Force overhaul.txt: 'Political orientation label not found for org: rt'\n",
      "Error processing file RT--2017-07-06--250000 Americans 500 groups reject genetically-modified eucalyptus trees.txt: 'Political orientation label not found for org: rt'\n",
      "Error processing file RT--2017-08-22--Die another day Tillerson praises North Korea for restraint.txt: 'Political orientation label not found for org: rt'\n",
      "Error processing file RT--2017-06-23--Cops 101 New Jersey wants to teach kids how to deal with police.txt: 'Political orientation label not found for org: rt'\n",
      "Error processing file RT--2017-07-13--Flurry of gun control bills pass across US as Everytown delights in winning against gun lobby.txt: 'Political orientation label not found for org: rt'\n",
      "Error processing file RT--2017-06-27--Seattles minimum wage hike costing low-wage workers 125month study.txt: 'Political orientation label not found for org: rt'\n",
      "Error processing file RT--2017-06-16--7 missing at least 3 injured as US Navy destroyer crashes into trade ship off Japan coast.txt: 'Political orientation label not found for org: rt'\n",
      "Error processing file RT--2017-08-30--Hurricane Harvey Tales of heartache heroism in Texas.txt: 'Political orientation label not found for org: rt'\n",
      "Error processing file RT--2017-08-14--Unite the Right organizer launches legal fund.txt: 'Political orientation label not found for org: rt'\n",
      "Error processing file RT--2017-07-05--Oregon becomes 1st US state to offer gender-neutral drivers licenses.txt: 'Political orientation label not found for org: rt'\n",
      "Error processing file RT--2017-06-22--FBI to leakers We will find and prosecute you.txt: 'Political orientation label not found for org: rt'\n"
     ]
    }
   ],
   "source": [
    "cd = os.getcwd()\n",
    "data_directory = os.path.join(cd, '..', 'Data')\n",
    "\n",
    "# Part 1: Create h5py file\n",
    "with h5py.File(os.path.join(data_directory, 'data.h5'), 'w') as hdf_file:\n",
    "    text_dataset = hdf_file.create_dataset('article_text', shape=(0,), maxshape=(None,), dtype=h5py.special_dtype(vlen=str))\n",
    "    news_org_dataset = hdf_file.create_dataset('news_org', shape=(0,), maxshape=(None,), dtype=h5py.special_dtype(vlen=str))\n",
    "    orientation_dataset = hdf_file.create_dataset('political_orientation', shape=(0,), maxshape=(None,), dtype=h5py.special_dtype(vlen=str))\n",
    "    \n",
    "    # Iterate over files\n",
    "    for root, dirs, files in os.walk(os.path.join(data_directory, 'NELA_2017-2022')):\n",
    "        for article in files:\n",
    "            try:\n",
    "                if article.endswith('.txt'):\n",
    "                    article_path = os.path.join(root, article)\n",
    "                    with open(article_path, 'r') as f:\n",
    "                        article_text = f.read()\n",
    "                    # Collect news organization name\n",
    "                    news_org = str(preprocessing.get_news_org(article))\n",
    "                    # Determine political orientation of news org\n",
    "                    political_orientation = str(preprocessing.get_orientation_label(article))\n",
    "                    # Append data to hdf5 datasets\n",
    "                    text_dataset.resize((len(text_dataset) + 1, ))\n",
    "                    text_dataset[-1] = article_text\n",
    "                    news_org_dataset.resize((len(news_org_dataset) + 1, ))\n",
    "                    news_org_dataset[-1] = news_org\n",
    "                    orientation_dataset.resize((len(orientation_dataset) + 1, ))\n",
    "                    orientation_dataset[-1] = political_orientation\n",
    "            except Exception as e:\n",
    "                print(f\"Error processing file {article}: {str(e)}\")\n",
    "                \n",
    "# Part 2: Split data\n",
    "\n",
    "with h5py.File(os.path.join(data_directory, 'data.h5'), 'r') as hdf_file:\n",
    "    article_text = np.array(hdf_file['article_text'])\n",
    "    political_orientation = np.array(hdf_file['political_orientation'])\n",
    "\n",
    "# Split data into training/validation sets\n",
    "\n",
    "# X_train, X_test, y_train, y_test \n",
    "\n",
    "# Part 3: Train CNN/SVM/GBM on input text & political orientation labels\n",
    "\n"
   ]
  },
  {
   "cell_type": "code",
   "execution_count": 3,
   "metadata": {},
   "outputs": [
    {
     "data": {
      "text/html": [
       "<div>\n",
       "<style scoped>\n",
       "    .dataframe tbody tr th:only-of-type {\n",
       "        vertical-align: middle;\n",
       "    }\n",
       "\n",
       "    .dataframe tbody tr th {\n",
       "        vertical-align: top;\n",
       "    }\n",
       "\n",
       "    .dataframe thead th {\n",
       "        text-align: right;\n",
       "    }\n",
       "</style>\n",
       "<table border=\"1\" class=\"dataframe\">\n",
       "  <thead>\n",
       "    <tr style=\"text-align: right;\">\n",
       "      <th></th>\n",
       "      <th>text</th>\n",
       "      <th>label</th>\n",
       "    </tr>\n",
       "  </thead>\n",
       "  <tbody>\n",
       "    <tr>\n",
       "      <th>2359</th>\n",
       "      <td>It’s been discussed for decades and on Friday ...</td>\n",
       "      <td>right-center</td>\n",
       "    </tr>\n",
       "    <tr>\n",
       "      <th>2360</th>\n",
       "      <td>New York hospitals are making people sick at a...</td>\n",
       "      <td>right-center</td>\n",
       "    </tr>\n",
       "    <tr>\n",
       "      <th>2361</th>\n",
       "      <td>WASHINGTON – White House Chief of Staff Reince...</td>\n",
       "      <td>left-center</td>\n",
       "    </tr>\n",
       "    <tr>\n",
       "      <th>2362</th>\n",
       "      <td>WASHINGTON — The Justice Department asked the ...</td>\n",
       "      <td>left-center</td>\n",
       "    </tr>\n",
       "    <tr>\n",
       "      <th>2363</th>\n",
       "      <td>WASHINGTON — Sergey Kislyak, Russia's ambassad...</td>\n",
       "      <td>left-center</td>\n",
       "    </tr>\n",
       "  </tbody>\n",
       "</table>\n",
       "</div>"
      ],
      "text/plain": [
       "                                                   text         label\n",
       "2359  It’s been discussed for decades and on Friday ...  right-center\n",
       "2360  New York hospitals are making people sick at a...  right-center\n",
       "2361  WASHINGTON – White House Chief of Staff Reince...   left-center\n",
       "2362  WASHINGTON — The Justice Department asked the ...   left-center\n",
       "2363  WASHINGTON — Sergey Kislyak, Russia's ambassad...   left-center"
      ]
     },
     "execution_count": 3,
     "metadata": {},
     "output_type": "execute_result"
    }
   ],
   "source": [
    "# Represent data as DataFrame\n",
    "df = pd.DataFrame({'text': article_text, 'label': political_orientation})\n",
    "df['text'] = df['text'].apply(lambda x: x.decode('utf-8'))\n",
    "df['label'] = df['label'].apply(lambda x: x.decode('utf-8'))\n",
    "df.tail()"
   ]
  },
  {
   "cell_type": "code",
   "execution_count": 4,
   "metadata": {},
   "outputs": [
    {
     "data": {
      "text/plain": [
       "534.8510998307953"
      ]
     },
     "execution_count": 4,
     "metadata": {},
     "output_type": "execute_result"
    }
   ],
   "source": [
    "# Create new column for word count of each article\n",
    "df['wc'] = df['text'].apply(lambda x: len(x.split()))\n",
    "\n",
    "# Calculate average wc per article\n",
    "df['wc'].agg('mean')"
   ]
  },
  {
   "cell_type": "code",
   "execution_count": 5,
   "metadata": {},
   "outputs": [
    {
     "data": {
      "text/plain": [
       "Text(0.5, 1.0, 'The distribution of labels')"
      ]
     },
     "execution_count": 5,
     "metadata": {},
     "output_type": "execute_result"
    },
    {
     "data": {
      "image/png": "[encoded data removed]",
      "text/plain": [
       "<Figure size 800x600 with 1 Axes>"
      ]
     },
     "metadata": {},
     "output_type": "display_data"
    }
   ],
   "source": [
    "# Plot the distribution of labels\n",
    "plt.figure(figsize=(8,6))\n",
    "sns.countplot(df.label)\n",
    "plt.title('The distribution of labels')"
   ]
  },
  {
   "cell_type": "code",
   "execution_count": 6,
   "metadata": {},
   "outputs": [],
   "source": [
    "# Let's get rid of all the NAN values\n",
    "df = df[df['label'] != 'nan']"
   ]
  },
  {
   "cell_type": "code",
   "execution_count": 7,
   "metadata": {},
   "outputs": [],
   "source": [
    "# Let's create a column with preprocessed text\n",
    "df['text_tokenized'] = df['text'].apply(preprocessing.preprocess_text)"
   ]
  },
  {
   "cell_type": "markdown",
   "metadata": {},
   "source": [
    "# Training"
   ]
  },
  {
   "cell_type": "code",
   "execution_count": 8,
   "metadata": {},
   "outputs": [],
   "source": [
    "from sklearn.model_selection import train_test_split\n",
    "from sklearn.preprocessing import LabelEncoder\n",
    "import tensorflow as tf\n",
    "from tensorflow.keras.preprocessing.text import Tokenizer\n",
    "from tensorflow.keras.preprocessing.sequence import pad_sequences\n",
    "from tensorflow.keras.models import Sequential\n",
    "from keras.layers import Embedding, LSTM, Dense, Dropout"
   ]
  },
  {
   "cell_type": "code",
   "execution_count": 9,
   "metadata": {},
   "outputs": [
    {
     "data": {
      "text/plain": [
       "6536"
      ]
     },
     "execution_count": 9,
     "metadata": {},
     "output_type": "execute_result"
    }
   ],
   "source": [
    "# Count max number of words in all articles\n",
    "df['wc'].agg('max')"
   ]
  },
  {
   "cell_type": "code",
   "execution_count": 10,
   "metadata": {},
   "outputs": [],
   "source": [
    "df.drop('wc', axis=1, inplace=True)"
   ]
  },
  {
   "cell_type": "code",
   "execution_count": 12,
   "metadata": {},
   "outputs": [],
   "source": [
    "# Encode labels\n",
    "\n",
    "label_encoder = LabelEncoder()\n",
    "df['labels_encoded'] = label_encoder.fit_transform(df['label'])\n",
    "\n",
    "# Tokenize article text\n",
    "max_words = 7000\n",
    "tokenizer = Tokenizer(num_words=max_words)\n",
    "tokenizer.fit_on_texts(df['text_tokenized']) \n",
    "\n",
    "# Convert text to padded seqs\n",
    "X = tokenizer.texts_to_sequences(df['text_tokenized']) \n",
    "X = pad_sequences(X)\n",
    "\n",
    "# we feed X into the lstm"
   ]
  },
  {
   "cell_type": "code",
   "execution_count": 13,
   "metadata": {},
   "outputs": [
    {
     "data": {
      "text/plain": [
       "array([4, 3, 1, 5, 6, 0, 2])"
      ]
     },
     "execution_count": 13,
     "metadata": {},
     "output_type": "execute_result"
    }
   ],
   "source": [
    "df['labels_encoded'].unique()"
   ]
  },
  {
   "cell_type": "markdown",
   "metadata": {},
   "source": [
    "# Train"
   ]
  },
  {
   "cell_type": "code",
   "execution_count": null,
   "metadata": {},
   "outputs": [],
   "source": [
    "# Split data into training and validation sets\n",
    "X_train, X_valid, y_train, y_valid = train_test_split(X, df['labels_encoded'], test_size=0.2, random_state=21)\n",
    "\n",
    "# Construct LSTM\n",
    "embedding_size = 100\n",
    "lstm_out = 64\n",
    "\n",
    "lstm_model = Sequential()\n",
    "lstm_model.add(Embedding(max_words, embedding_size))\n",
    "lstm_model.add(LSTM(lstm_out, dropout=0.2, recurrent_dropout=0.2))\n",
    "lstm_model.add(Dense(7, activation='softmax')) # given that there are 7 unique classifications\n",
    "lstm_model.compile(loss='sparse_categorical_crossentropy', optimizer='adam', metrics=['accuracy'])\n",
    "\n",
    "# Part 3: Train LSTM model on input text & political orientation labels\n",
    "\n",
    "batch_size = 32\n",
    "epochs = 5\n",
    "history = lstm_model.fit(X_train, y_train, batch_size=batch_size, epochs=epochs, validation_data=(X_valid, y_valid), verbose=1)"
   ]
  },
  {
   "cell_type": "markdown",
   "metadata": {},
   "source": [
    "# BERT"
   ]
  },
  {
   "cell_type": "code",
   "execution_count": 31,
   "metadata": {},
   "outputs": [
    {
     "name": "stderr",
     "output_type": "stream",
     "text": [
      "/Users/akilhuang/Library/Python/3.11/lib/python/site-packages/huggingface_hub/file_download.py:1132: FutureWarning: `resume_download` is deprecated and will be removed in version 1.0.0. Downloads always resume when possible. If you want to force a new download, use `force_download=True`.\n",
      "  warnings.warn(\n",
      "Some weights of BertForSequenceClassification were not initialized from the model checkpoint at bert-base-uncased and are newly initialized: ['classifier.bias', 'classifier.weight']\n",
      "You should probably TRAIN this model on a down-stream task to be able to use it for predictions and inference.\n"
     ]
    }
   ],
   "source": [
    "import torch\n",
    "from transformers import BertTokenizer, BertForSequenceClassification, AdamW # We additionally tokenize with BertTokenizer\n",
    "from torch.utils.data import DataLoader, RandomSampler, SequentialSampler, TensorDataset\n",
    "from torch.nn.utils.rnn import pad_sequence\n",
    "\n",
    "# Load BERT tokenizer and model\n",
    "tokenizer = BertTokenizer.from_pretrained('bert-base-uncased')\n",
    "model = BertForSequenceClassification.from_pretrained('bert-base-uncased', num_labels=7)\n",
    "\n",
    "# Tokenize text and convert to a tensor\n",
    "input_ids = [tokenizer.encode(text, add_special_tokens=True, max_length=512, truncation=True) for text in df['text']]\n",
    "input_ids_tensors = [torch.tensor(seq) for seq in input_ids]\n",
    "\n",
    "# We need to pad the seqs because they're currently of different lengths\n",
    "input_ids_padded = pad_sequence(input_ids_tensors, batch_first=True, padding_value=0)\n",
    "\n",
    "# Create attention masks\n",
    "attention_masks = (input_ids_padded > 0).long()\n",
    "\n",
    "# Get labels\n",
    "labels = torch.tensor(df['labels_encoded'])"
   ]
  },
  {
   "cell_type": "code",
   "execution_count": null,
   "metadata": {},
   "outputs": [],
   "source": []
  }
 ],
 "metadata": {
  "kernelspec": {
   "display_name": "Python 3",
   "language": "python",
   "name": "python3"
  },
  "language_info": {
   "codemirror_mode": {
    "name": "ipython",
    "version": 3
   },
   "file_extension": ".py",
   "mimetype": "text/x-python",
   "name": "python",
   "nbconvert_exporter": "python",
   "pygments_lexer": "ipython3",
   "version": "3.11.0"
  }
 },
 "nbformat": 4,
 "nbformat_minor": 2
}
